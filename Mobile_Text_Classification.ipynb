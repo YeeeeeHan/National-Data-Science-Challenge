{
 "cells": [
  {
   "cell_type": "code",
   "execution_count": 2,
   "metadata": {},
   "outputs": [
    {
     "name": "stderr",
     "output_type": "stream",
     "text": [
      "Using TensorFlow backend.\n"
     ]
    },
    {
     "data": {
      "text/plain": [
       "''"
      ]
     },
     "execution_count": 2,
     "metadata": {},
     "output_type": "execute_result"
    }
   ],
   "source": [
    "import pandas as pd\n",
    "import numpy as np\n",
    "from numpy import dstack\n",
    "import logging\n",
    "import itertools\n",
    "import os\n",
    "import gensim\n",
    "import nltk\n",
    "import re\n",
    "\n",
    "%matplotlib inline\n",
    "import matplotlib.pyplot as plt\n",
    "\n",
    "from sklearn.feature_extraction.text import CountVectorizer, TfidfVectorizer\n",
    "from sklearn.linear_model import LogisticRegression\n",
    "from sklearn.metrics import accuracy_score,confusion_matrix\n",
    "from sklearn.model_selection import train_test_split\n",
    "from sklearn.preprocessing import LabelBinarizer, LabelEncoder\n",
    "\n",
    "import tensorflow as tf\n",
    "from tensorflow import keras\n",
    "from keras import utils\n",
    "from keras.utils import to_categorical\n",
    "from keras.models import Sequential, model_from_json, load_model\n",
    "from keras.layers import Dense, Activation, Dropout, Input\n",
    "from keras.layers.normalization import BatchNormalization\n",
    "from keras.preprocessing import text, sequence\n",
    "\n",
    "from nltk.corpus import stopwords\n",
    "\n",
    "\n",
    "\n",
    "tf.test.gpu_device_name()"
   ]
  },
  {
   "cell_type": "code",
   "execution_count": 3,
   "metadata": {},
   "outputs": [
    {
     "data": {
      "text/html": [
       "<div>\n",
       "<style scoped>\n",
       "    .dataframe tbody tr th:only-of-type {\n",
       "        vertical-align: middle;\n",
       "    }\n",
       "\n",
       "    .dataframe tbody tr th {\n",
       "        vertical-align: top;\n",
       "    }\n",
       "\n",
       "    .dataframe thead th {\n",
       "        text-align: right;\n",
       "    }\n",
       "</style>\n",
       "<table border=\"1\" class=\"dataframe\">\n",
       "  <thead>\n",
       "    <tr style=\"text-align: right;\">\n",
       "      <th></th>\n",
       "      <th>Unnamed: 0</th>\n",
       "      <th>itemid</th>\n",
       "      <th>title</th>\n",
       "      <th>Category</th>\n",
       "      <th>image_path</th>\n",
       "    </tr>\n",
       "  </thead>\n",
       "  <tbody>\n",
       "    <tr>\n",
       "      <th>0</th>\n",
       "      <td>0</td>\n",
       "      <td>963897428</td>\n",
       "      <td>whatsapp 085243112445 iphone 6s 64gb space gray</td>\n",
       "      <td>31</td>\n",
       "      <td>mobile_image/157e7efcbd6e8ddd6d9ad72403a9dbeb.jpg</td>\n",
       "    </tr>\n",
       "    <tr>\n",
       "      <th>1</th>\n",
       "      <td>1</td>\n",
       "      <td>991263509</td>\n",
       "      <td>promo order whatsapp o82190534166 samsung gala...</td>\n",
       "      <td>35</td>\n",
       "      <td>mobile_image/d5a1ef12db05670494e75f36dce5ca53.jpg</td>\n",
       "    </tr>\n",
       "    <tr>\n",
       "      <th>2</th>\n",
       "      <td>2</td>\n",
       "      <td>1142608316</td>\n",
       "      <td>wa 085399992662 j1 j100 samsung galaxy minus</td>\n",
       "      <td>34</td>\n",
       "      <td>mobile_image/c78a8b35dea1948e2d4ffabcad13819e.jpg</td>\n",
       "    </tr>\n",
       "    <tr>\n",
       "      <th>3</th>\n",
       "      <td>3</td>\n",
       "      <td>129945281</td>\n",
       "      <td>iphone 5c 32gb ori bm</td>\n",
       "      <td>31</td>\n",
       "      <td>mobile_image/d52b7e69db53807804e60ef6ed1e51d5.jpg</td>\n",
       "    </tr>\n",
       "    <tr>\n",
       "      <th>4</th>\n",
       "      <td>4</td>\n",
       "      <td>1186251722</td>\n",
       "      <td>discon charger asus zenfone 2 a original 100 a...</td>\n",
       "      <td>43</td>\n",
       "      <td>mobile_image/513d26725085cc5b074f53c1eca83517.jpg</td>\n",
       "    </tr>\n",
       "  </tbody>\n",
       "</table>\n",
       "</div>"
      ],
      "text/plain": [
       "   Unnamed: 0      itemid                                              title  \\\n",
       "0           0   963897428    whatsapp 085243112445 iphone 6s 64gb space gray   \n",
       "1           1   991263509  promo order whatsapp o82190534166 samsung gala...   \n",
       "2           2  1142608316       wa 085399992662 j1 j100 samsung galaxy minus   \n",
       "3           3   129945281                              iphone 5c 32gb ori bm   \n",
       "4           4  1186251722  discon charger asus zenfone 2 a original 100 a...   \n",
       "\n",
       "   Category                                         image_path  \n",
       "0        31  mobile_image/157e7efcbd6e8ddd6d9ad72403a9dbeb.jpg  \n",
       "1        35  mobile_image/d5a1ef12db05670494e75f36dce5ca53.jpg  \n",
       "2        34  mobile_image/c78a8b35dea1948e2d4ffabcad13819e.jpg  \n",
       "3        31  mobile_image/d52b7e69db53807804e60ef6ed1e51d5.jpg  \n",
       "4        43  mobile_image/513d26725085cc5b074f53c1eca83517.jpg  "
      ]
     },
     "execution_count": 3,
     "metadata": {},
     "output_type": "execute_result"
    }
   ],
   "source": [
    "mobile = pd.read_csv(\"Mobile_shuffled.csv\")\n",
    "mobile.head()"
   ]
  },
  {
   "cell_type": "code",
   "execution_count": 4,
   "metadata": {},
   "outputs": [
    {
     "name": "stdout",
     "output_type": "stream",
     "text": [
      "WARNING:tensorflow:From /Users/yeeeeehan/anaconda3/lib/python3.7/site-packages/tensorflow/python/framework/op_def_library.py:263: colocate_with (from tensorflow.python.framework.ops) is deprecated and will be removed in a future version.\n",
      "Instructions for updating:\n",
      "Colocations handled automatically by placer.\n",
      "WARNING:tensorflow:From /Users/yeeeeehan/anaconda3/lib/python3.7/site-packages/keras/backend/tensorflow_backend.py:3445: calling dropout (from tensorflow.python.ops.nn_ops) with keep_prob is deprecated and will be removed in a future version.\n",
      "Instructions for updating:\n",
      "Please use `rate` instead of `keep_prob`. Rate should be set to `rate = 1 - keep_prob`.\n",
      "WARNING:tensorflow:From /Users/yeeeeehan/anaconda3/lib/python3.7/site-packages/tensorflow/python/ops/math_ops.py:3066: to_int32 (from tensorflow.python.ops.math_ops) is deprecated and will be removed in a future version.\n",
      "Instructions for updating:\n",
      "Use tf.cast instead.\n",
      "Train on 128264 samples, validate on 32066 samples\n",
      "Epoch 1/20\n",
      "128264/128264 [==============================] - 16s 127us/step - loss: 1.2742 - acc: 0.6476 - val_loss: 0.8482 - val_acc: 0.7650\n",
      "Epoch 2/20\n",
      "128264/128264 [==============================] - 17s 130us/step - loss: 0.8079 - acc: 0.7745 - val_loss: 0.7480 - val_acc: 0.7871\n",
      "Epoch 3/20\n",
      "128264/128264 [==============================] - 17s 130us/step - loss: 0.7187 - acc: 0.7943 - val_loss: 0.6994 - val_acc: 0.7936\n",
      "Epoch 4/20\n",
      "128264/128264 [==============================] - 16s 128us/step - loss: 0.6742 - acc: 0.8021 - val_loss: 0.6835 - val_acc: 0.7990\n",
      "Epoch 5/20\n",
      "128264/128264 [==============================] - 17s 129us/step - loss: 0.6441 - acc: 0.8089 - val_loss: 0.6697 - val_acc: 0.8013\n",
      "Epoch 6/20\n",
      "128264/128264 [==============================] - 16s 123us/step - loss: 0.6212 - acc: 0.8141 - val_loss: 0.6614 - val_acc: 0.8035\n",
      "Epoch 7/20\n",
      "128264/128264 [==============================] - 18s 137us/step - loss: 0.6015 - acc: 0.8179 - val_loss: 0.6502 - val_acc: 0.8055\n",
      "Epoch 8/20\n",
      "128264/128264 [==============================] - 20s 154us/step - loss: 0.5825 - acc: 0.8230 - val_loss: 0.6499 - val_acc: 0.8066\n",
      "Epoch 9/20\n",
      "128264/128264 [==============================] - 22s 174us/step - loss: 0.5692 - acc: 0.8267 - val_loss: 0.6408 - val_acc: 0.8087\n",
      "Epoch 10/20\n",
      "128264/128264 [==============================] - 22s 168us/step - loss: 0.5556 - acc: 0.8298 - val_loss: 0.6386 - val_acc: 0.8099\n",
      "Epoch 11/20\n",
      "128264/128264 [==============================] - 23s 179us/step - loss: 0.5434 - acc: 0.8333 - val_loss: 0.6381 - val_acc: 0.8103\n",
      "Epoch 12/20\n",
      "128264/128264 [==============================] - 24s 184us/step - loss: 0.5330 - acc: 0.8349 - val_loss: 0.6429 - val_acc: 0.8112\n",
      "Epoch 13/20\n",
      "128264/128264 [==============================] - 22s 175us/step - loss: 0.5197 - acc: 0.8399 - val_loss: 0.6371 - val_acc: 0.8117\n",
      "Epoch 14/20\n",
      "128264/128264 [==============================] - 24s 183us/step - loss: 0.5131 - acc: 0.8413 - val_loss: 0.6398 - val_acc: 0.8118\n",
      "Epoch 15/20\n",
      "128264/128264 [==============================] - 24s 189us/step - loss: 0.5035 - acc: 0.8440 - val_loss: 0.6402 - val_acc: 0.8134\n",
      "Epoch 16/20\n",
      "128264/128264 [==============================] - 22s 168us/step - loss: 0.4932 - acc: 0.8466 - val_loss: 0.6520 - val_acc: 0.8116\n",
      "Epoch 17/20\n",
      "128264/128264 [==============================] - 16s 122us/step - loss: 0.4848 - acc: 0.8488 - val_loss: 0.6384 - val_acc: 0.8145\n",
      "Epoch 18/20\n",
      "128264/128264 [==============================] - 21s 161us/step - loss: 0.4787 - acc: 0.8506 - val_loss: 0.6428 - val_acc: 0.8141\n",
      "Epoch 19/20\n",
      "128264/128264 [==============================] - 20s 153us/step - loss: 0.4714 - acc: 0.8525 - val_loss: 0.6431 - val_acc: 0.8143\n",
      "Epoch 20/20\n",
      "128264/128264 [==============================] - 25s 192us/step - loss: 0.4646 - acc: 0.8545 - val_loss: 0.6435 - val_acc: 0.8149\n"
     ]
    },
    {
     "data": {
      "image/png": "[encoded data removed]",
      "text/plain": [
       "<Figure size 432x288 with 1 Axes>"
      ]
     },
     "metadata": {
      "needs_background": "light"
     },
     "output_type": "display_data"
    }
   ],
   "source": [
    "max_words = 1000\n",
    "batch_size = 3000\n",
    "epochs = 20\n",
    "\n",
    "\n",
    "train_size = int(len(mobile) * 0.8) \n",
    "train_title = mobile['title'][:train_size] #Takes 70% of the training data to train\n",
    "train_Category = mobile['Category'][:train_size] #Takes 70% of the training data to train\n",
    "\n",
    "eval_title = mobile['title'][train_size:] #Takes remaining 30% of the training data to test\n",
    "eval_Category = mobile['Category'][train_size:] #Takes remaining 30% of the training data to test\n",
    "\n",
    "tokenize = text.Tokenizer(num_words=max_words, char_level=False)\n",
    "tokenize.fit_on_texts(train_title) # only fit on train\n",
    "\n",
    "x_train = tokenize.texts_to_matrix(train_title)\n",
    "x_eval = tokenize.texts_to_matrix(eval_title)\n",
    "\n",
    "encoder = LabelEncoder()\n",
    "encoder.fit(train_Category)\n",
    "y_train = train_Category\n",
    "y_eval = eval_Category\n",
    "y_train = encoder.transform(train_Category)\n",
    "y_eval = encoder.transform(eval_Category)\n",
    "\n",
    "num_classes = np.max(y_train) - np.min(y_train) + 1\n",
    "y_train = utils.to_categorical(y_train, num_classes)   # one hot encode the class values\n",
    "y_eval = utils.to_categorical(y_eval, num_classes)\n",
    "\n",
    "\n",
    "# Build the model\n",
    "model = Sequential()\n",
    "model.add(Dense(512, input_shape=(max_words,)))\n",
    "model.add(Activation('relu'))\n",
    "model.add(Dropout(0.5))\n",
    "model.add(Dense(512))\n",
    "model.add(Activation('relu'))\n",
    "model.add(Dropout(0.3))\n",
    "model.add(Dense(512))\n",
    "model.add(Activation('relu'))\n",
    "model.add(Dropout(0.3))\n",
    "model.add(Dense(num_classes))\n",
    "model.add(Activation('softmax'))\n",
    "\n",
    "model.compile(loss='categorical_crossentropy',\n",
    "              optimizer='adagrad',\n",
    "              metrics=['accuracy'])\n",
    "              \n",
    "history = model.fit(x_train, y_train,\n",
    "                    validation_data=[x_eval, y_eval],\n",
    "                    batch_size=batch_size,\n",
    "                    epochs=epochs,\n",
    "                    verbose=1)\n",
    "\n",
    "def display_training_graph(history):\n",
    "    # summarize history for loss\n",
    "    plt.plot(history.history['val_loss'])\n",
    "    plt.plot(history.history['loss'])\n",
    "    plt.title('model loss')\n",
    "    plt.ylabel('loss')\n",
    "    plt.xlabel('epoch')\n",
    "    plt.legend(['val_loss', 'loss'], loc='upper right')\n",
    "    plt.draw()\n",
    "\n",
    "\n",
    "display_training_graph(history)"
   ]
  },
  {
   "cell_type": "code",
   "execution_count": 5,
   "metadata": {},
   "outputs": [
    {
     "name": "stdout",
     "output_type": "stream",
     "text": [
      "32066/32066 [==============================] - 1s 29us/step\n",
      "Test accuracy: 0.8149441792470788\n"
     ]
    }
   ],
   "source": [
    "score = model.evaluate(x_eval, y_eval,\n",
    "                       batch_size=batch_size, verbose=1)\n",
    "print('Test accuracy:', score[1])"
   ]
  },
  {
   "cell_type": "code",
   "execution_count": 6,
   "metadata": {},
   "outputs": [
    {
     "name": "stdout",
     "output_type": "stream",
     "text": [
      ">Saved ./mobile_models/model_1.h5\n"
     ]
    }
   ],
   "source": [
    "filename = './mobile_models/' + 'model_' + str(1) + '.h5'\n",
    "model.save(filename)\n",
    "print('>Saved %s' % filename)"
   ]
  },
  {
   "cell_type": "code",
   "execution_count": null,
   "metadata": {},
   "outputs": [],
   "source": []
  },
  {
   "cell_type": "code",
   "execution_count": null,
   "metadata": {},
   "outputs": [],
   "source": []
  },
  {
   "cell_type": "code",
   "execution_count": null,
   "metadata": {},
   "outputs": [],
   "source": []
  },
  {
   "cell_type": "code",
   "execution_count": null,
   "metadata": {},
   "outputs": [],
   "source": []
  },
  {
   "cell_type": "code",
   "execution_count": null,
   "metadata": {},
   "outputs": [],
   "source": []
  },
  {
   "cell_type": "code",
   "execution_count": null,
   "metadata": {},
   "outputs": [],
   "source": []
  },
  {
   "cell_type": "code",
   "execution_count": null,
   "metadata": {},
   "outputs": [],
   "source": []
  }
 ],
 "metadata": {
  "kernelspec": {
   "display_name": "Python (root)",
   "language": "python",
   "name": "root"
  },
  "language_info": {
   "codemirror_mode": {
    "name": "ipython",
    "version": 3
   },
   "file_extension": ".py",
   "mimetype": "text/x-python",
   "name": "python",
   "nbconvert_exporter": "python",
   "pygments_lexer": "ipython3",
   "version": "3.7.1"
  }
 },
 "nbformat": 4,
 "nbformat_minor": 2
}
