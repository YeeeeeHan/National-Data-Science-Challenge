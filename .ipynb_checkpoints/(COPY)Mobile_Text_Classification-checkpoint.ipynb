{
 "cells": [
  {
   "cell_type": "code",
   "execution_count": 1,
   "metadata": {},
   "outputs": [
    {
     "name": "stderr",
     "output_type": "stream",
     "text": [
      "Using TensorFlow backend.\n"
     ]
    },
    {
     "data": {
      "text/plain": [
       "''"
      ]
     },
     "execution_count": 1,
     "metadata": {},
     "output_type": "execute_result"
    }
   ],
   "source": [
    "import pandas as pd\n",
    "import numpy as np\n",
    "from numpy import dstack\n",
    "import logging\n",
    "import itertools\n",
    "import os\n",
    "import gensim\n",
    "import nltk\n",
    "import re\n",
    "\n",
    "%matplotlib inline\n",
    "import matplotlib.pyplot as plt\n",
    "\n",
    "from sklearn.feature_extraction.text import CountVectorizer, TfidfVectorizer\n",
    "from sklearn.linear_model import LogisticRegression\n",
    "from sklearn.metrics import accuracy_score,confusion_matrix\n",
    "from sklearn.model_selection import train_test_split\n",
    "from sklearn.preprocessing import LabelBinarizer, LabelEncoder\n",
    "\n",
    "import tensorflow as tf\n",
    "from tensorflow import keras\n",
    "from keras import utils\n",
    "from keras.utils import to_categorical\n",
    "from keras.models import Sequential, model_from_json, load_model\n",
    "from keras.layers import Dense, Activation, Dropout, Input\n",
    "from keras.layers.normalization import BatchNormalization\n",
    "from keras.preprocessing import text, sequence\n",
    "\n",
    "from nltk.corpus import stopwords\n",
    "\n",
    "\n",
    "\n",
    "tf.test.gpu_device_name()"
   ]
  },
  {
   "cell_type": "code",
   "execution_count": 4,
   "metadata": {},
   "outputs": [
    {
     "data": {
      "text/html": [
       "<div>\n",
       "<style scoped>\n",
       "    .dataframe tbody tr th:only-of-type {\n",
       "        vertical-align: middle;\n",
       "    }\n",
       "\n",
       "    .dataframe tbody tr th {\n",
       "        vertical-align: top;\n",
       "    }\n",
       "\n",
       "    .dataframe thead th {\n",
       "        text-align: right;\n",
       "    }\n",
       "</style>\n",
       "<table border=\"1\" class=\"dataframe\">\n",
       "  <thead>\n",
       "    <tr style=\"text-align: right;\">\n",
       "      <th></th>\n",
       "      <th>Unnamed: 0</th>\n",
       "      <th>itemid</th>\n",
       "      <th>title</th>\n",
       "      <th>Category</th>\n",
       "      <th>image_path</th>\n",
       "    </tr>\n",
       "  </thead>\n",
       "  <tbody>\n",
       "    <tr>\n",
       "      <th>0</th>\n",
       "      <td>0</td>\n",
       "      <td>963897428</td>\n",
       "      <td>whatsapp 085243112445 iphone 6s 64gb space gray</td>\n",
       "      <td>31</td>\n",
       "      <td>mobile_image/157e7efcbd6e8ddd6d9ad72403a9dbeb.jpg</td>\n",
       "    </tr>\n",
       "    <tr>\n",
       "      <th>1</th>\n",
       "      <td>1</td>\n",
       "      <td>991263509</td>\n",
       "      <td>promo order whatsapp o82190534166 samsung gala...</td>\n",
       "      <td>35</td>\n",
       "      <td>mobile_image/d5a1ef12db05670494e75f36dce5ca53.jpg</td>\n",
       "    </tr>\n",
       "    <tr>\n",
       "      <th>2</th>\n",
       "      <td>2</td>\n",
       "      <td>1142608316</td>\n",
       "      <td>wa 085399992662 j1 j100 samsung galaxy minus</td>\n",
       "      <td>34</td>\n",
       "      <td>mobile_image/c78a8b35dea1948e2d4ffabcad13819e.jpg</td>\n",
       "    </tr>\n",
       "    <tr>\n",
       "      <th>3</th>\n",
       "      <td>3</td>\n",
       "      <td>129945281</td>\n",
       "      <td>iphone 5c 32gb ori bm</td>\n",
       "      <td>31</td>\n",
       "      <td>mobile_image/d52b7e69db53807804e60ef6ed1e51d5.jpg</td>\n",
       "    </tr>\n",
       "    <tr>\n",
       "      <th>4</th>\n",
       "      <td>4</td>\n",
       "      <td>1186251722</td>\n",
       "      <td>discon charger asus zenfone 2 a original 100 a...</td>\n",
       "      <td>43</td>\n",
       "      <td>mobile_image/513d26725085cc5b074f53c1eca83517.jpg</td>\n",
       "    </tr>\n",
       "  </tbody>\n",
       "</table>\n",
       "</div>"
      ],
      "text/plain": [
       "   Unnamed: 0      itemid                                              title  \\\n",
       "0           0   963897428    whatsapp 085243112445 iphone 6s 64gb space gray   \n",
       "1           1   991263509  promo order whatsapp o82190534166 samsung gala...   \n",
       "2           2  1142608316       wa 085399992662 j1 j100 samsung galaxy minus   \n",
       "3           3   129945281                              iphone 5c 32gb ori bm   \n",
       "4           4  1186251722  discon charger asus zenfone 2 a original 100 a...   \n",
       "\n",
       "   Category                                         image_path  \n",
       "0        31  mobile_image/157e7efcbd6e8ddd6d9ad72403a9dbeb.jpg  \n",
       "1        35  mobile_image/d5a1ef12db05670494e75f36dce5ca53.jpg  \n",
       "2        34  mobile_image/c78a8b35dea1948e2d4ffabcad13819e.jpg  \n",
       "3        31  mobile_image/d52b7e69db53807804e60ef6ed1e51d5.jpg  \n",
       "4        43  mobile_image/513d26725085cc5b074f53c1eca83517.jpg  "
      ]
     },
     "execution_count": 4,
     "metadata": {},
     "output_type": "execute_result"
    }
   ],
   "source": [
    "mobile = pd.read_csv(\"./Datasets/Mobile_shuffled.csv\")\n",
    "mobile.head()"
   ]
  },
  {
   "cell_type": "code",
   "execution_count": 7,
   "metadata": {},
   "outputs": [
    {
     "name": "stdout",
     "output_type": "stream",
     "text": [
      "[ 0  4  3 ...  0 11  3]\n"
     ]
    }
   ],
   "source": [
    "max_words = 1000\n",
    "batch_size = 3000\n",
    "epochs = 20\n",
    "\n",
    "\n",
    "train_size = int(len(mobile) * 0.8) \n",
    "train_title = mobile['title'][:train_size] #Takes 70% of the training data to train\n",
    "train_Category = mobile['Category'][:train_size] #Takes 70% of the training data to train\n",
    "\n",
    "eval_title = mobile['title'][train_size:] #Takes remaining 30% of the training data to test\n",
    "eval_Category = mobile['Category'][train_size:] #Takes remaining 30% of the training data to test\n",
    "\n",
    "tokenize = text.Tokenizer(num_words=max_words, char_level=False)\n",
    "tokenize.fit_on_texts(train_title) # only fit on train\n",
    "\n",
    "x_train = tokenize.texts_to_matrix(train_title)\n",
    "x_eval = tokenize.texts_to_matrix(eval_title)\n",
    "\n",
    "encoder = LabelEncoder()\n",
    "encoder.fit(train_Category)\n",
    "y_train = train_Category\n",
    "y_eval = eval_Category\n",
    "\n",
    "\n",
    "y_train = encoder.transform(train_Category)\n",
    "y_eval = encoder.transform(eval_Category)\n",
    "print(y_train)\n",
    "\n",
    "num_classes = np.max(y_train) - np.min(y_train) + 1\n",
    "y_train = utils.to_categorical(y_train, num_classes)   # one hot encode the class values\n",
    "\n",
    "# y_eval = utils.to_categorical(y_eval, num_classes)\n",
    "\n",
    "\n",
    "# # Build the model\n",
    "# model = Sequential()\n",
    "# model.add(Dense(512, input_shape=(max_words,)))\n",
    "# model.add(Activation('relu'))\n",
    "# model.add(Dropout(0.5))\n",
    "# model.add(Dense(512))\n",
    "# model.add(Activation('relu'))\n",
    "# model.add(Dropout(0.3))\n",
    "# model.add(Dense(512))\n",
    "# model.add(Activation('relu'))\n",
    "# model.add(Dropout(0.3))\n",
    "# model.add(Dense(num_classes))\n",
    "# model.add(Activation('softmax'))\n",
    "\n",
    "# model.compile(loss='categorical_crossentropy',\n",
    "#               optimizer='adagrad',\n",
    "#               metrics=['accuracy'])\n",
    "              \n",
    "# history = model.fit(x_train, y_train,\n",
    "#                     validation_data=[x_eval, y_eval],\n",
    "#                     batch_size=batch_size,\n",
    "#                     epochs=epochs,\n",
    "#                     verbose=1)\n",
    "\n",
    "# def display_training_graph(history):\n",
    "#     # summarize history for loss\n",
    "#     plt.plot(history.history['val_loss'])\n",
    "#     plt.plot(history.history['loss'])\n",
    "#     plt.title('model loss')\n",
    "#     plt.ylabel('loss')\n",
    "#     plt.xlabel('epoch')\n",
    "#     plt.legend(['val_loss', 'loss'], loc='upper right')\n",
    "#     plt.draw()\n",
    "\n",
    "\n",
    "# display_training_graph(history)"
   ]
  },
  {
   "cell_type": "code",
   "execution_count": 5,
   "metadata": {},
   "outputs": [
    {
     "name": "stdout",
     "output_type": "stream",
     "text": [
      "32066/32066 [==============================] - 1s 29us/step\n",
      "Test accuracy: 0.8149441792470788\n"
     ]
    }
   ],
   "source": [
    "score = model.evaluate(x_eval, y_eval,\n",
    "                       batch_size=batch_size, verbose=1)\n",
    "print('Test accuracy:', score[1])"
   ]
  },
  {
   "cell_type": "code",
   "execution_count": 6,
   "metadata": {},
   "outputs": [
    {
     "name": "stdout",
     "output_type": "stream",
     "text": [
      ">Saved ./mobile_models/model_1.h5\n"
     ]
    }
   ],
   "source": [
    "filename = './mobile_models/' + 'model_' + str(1) + '.h5'\n",
    "model.save(filename)\n",
    "print('>Saved %s' % filename)"
   ]
  },
  {
   "cell_type": "code",
   "execution_count": null,
   "metadata": {},
   "outputs": [],
   "source": []
  },
  {
   "cell_type": "code",
   "execution_count": null,
   "metadata": {},
   "outputs": [],
   "source": []
  },
  {
   "cell_type": "code",
   "execution_count": null,
   "metadata": {},
   "outputs": [],
   "source": []
  },
  {
   "cell_type": "code",
   "execution_count": null,
   "metadata": {},
   "outputs": [],
   "source": []
  },
  {
   "cell_type": "code",
   "execution_count": null,
   "metadata": {},
   "outputs": [],
   "source": []
  },
  {
   "cell_type": "code",
   "execution_count": null,
   "metadata": {},
   "outputs": [],
   "source": []
  },
  {
   "cell_type": "code",
   "execution_count": null,
   "metadata": {},
   "outputs": [],
   "source": []
  }
 ],
 "metadata": {
  "kernelspec": {
   "display_name": "Python (root)",
   "language": "python",
   "name": "root"
  },
  "language_info": {
   "codemirror_mode": {
    "name": "ipython",
    "version": 3
   },
   "file_extension": ".py",
   "mimetype": "text/x-python",
   "name": "python",
   "nbconvert_exporter": "python",
   "pygments_lexer": "ipython3",
   "version": "3.7.1"
  }
 },
 "nbformat": 4,
 "nbformat_minor": 2
}
