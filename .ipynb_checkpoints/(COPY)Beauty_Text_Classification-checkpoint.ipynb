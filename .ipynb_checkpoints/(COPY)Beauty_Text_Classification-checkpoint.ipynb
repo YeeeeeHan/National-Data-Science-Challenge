{
 "cells": [
  {
   "cell_type": "code",
   "execution_count": 1,
   "metadata": {},
   "outputs": [
    {
     "name": "stderr",
     "output_type": "stream",
     "text": [
      "Using TensorFlow backend.\n"
     ]
    },
    {
     "data": {
      "text/plain": [
       "''"
      ]
     },
     "execution_count": 1,
     "metadata": {},
     "output_type": "execute_result"
    }
   ],
   "source": [
    "import pandas as pd\n",
    "import numpy as np\n",
    "from numpy import dstack\n",
    "import logging\n",
    "import itertools\n",
    "import os\n",
    "import gensim\n",
    "import nltk\n",
    "import re\n",
    "\n",
    "%matplotlib inline\n",
    "import matplotlib.pyplot as plt\n",
    "\n",
    "from sklearn.feature_extraction.text import CountVectorizer, TfidfVectorizer\n",
    "from sklearn.linear_model import LogisticRegression\n",
    "from sklearn.metrics import accuracy_score,confusion_matrix\n",
    "from sklearn.model_selection import train_test_split\n",
    "from sklearn.preprocessing import LabelBinarizer, LabelEncoder\n",
    "\n",
    "import tensorflow as tf\n",
    "from tensorflow import keras\n",
    "from keras import utils\n",
    "from keras.utils import to_categorical\n",
    "from keras.models import Sequential, model_from_json, load_model\n",
    "from keras.layers import Dense, Activation, Dropout, Input\n",
    "from keras.layers.normalization import BatchNormalization\n",
    "from keras.preprocessing import text, sequence\n",
    "\n",
    "from nltk.corpus import stopwords\n",
    "\n",
    "\n",
    "\n",
    "tf.test.gpu_device_name()"
   ]
  },
  {
   "cell_type": "code",
   "execution_count": 3,
   "metadata": {},
   "outputs": [
    {
     "data": {
      "text/html": [
       "<div>\n",
       "<style scoped>\n",
       "    .dataframe tbody tr th:only-of-type {\n",
       "        vertical-align: middle;\n",
       "    }\n",
       "\n",
       "    .dataframe tbody tr th {\n",
       "        vertical-align: top;\n",
       "    }\n",
       "\n",
       "    .dataframe thead th {\n",
       "        text-align: right;\n",
       "    }\n",
       "</style>\n",
       "<table border=\"1\" class=\"dataframe\">\n",
       "  <thead>\n",
       "    <tr style=\"text-align: right;\">\n",
       "      <th></th>\n",
       "      <th>Unnamed: 0</th>\n",
       "      <th>itemid</th>\n",
       "      <th>title</th>\n",
       "      <th>Category</th>\n",
       "      <th>image_path</th>\n",
       "    </tr>\n",
       "  </thead>\n",
       "  <tbody>\n",
       "    <tr>\n",
       "      <th>0</th>\n",
       "      <td>0</td>\n",
       "      <td>568397291</td>\n",
       "      <td>the body shop cushion</td>\n",
       "      <td>1</td>\n",
       "      <td>beauty_image/40b183d4becbd3e241f0eec1ee326aeb.jpg</td>\n",
       "    </tr>\n",
       "    <tr>\n",
       "      <th>1</th>\n",
       "      <td>1</td>\n",
       "      <td>692151107</td>\n",
       "      <td>coty airspun loose face powder</td>\n",
       "      <td>3</td>\n",
       "      <td>beauty_image/9e80d455fb90ea92bd093f42ff266010.jpg</td>\n",
       "    </tr>\n",
       "    <tr>\n",
       "      <th>2</th>\n",
       "      <td>2</td>\n",
       "      <td>1494939333</td>\n",
       "      <td>promo little baby collagen powder bedak origin...</td>\n",
       "      <td>3</td>\n",
       "      <td>beauty_image/ed83b4310de1087a49e20e3cc9b283f5.jpg</td>\n",
       "    </tr>\n",
       "    <tr>\n",
       "      <th>3</th>\n",
       "      <td>3</td>\n",
       "      <td>1668851817</td>\n",
       "      <td>giordani gold cc cream spf 35</td>\n",
       "      <td>5</td>\n",
       "      <td>beauty_image/39762bdfca9908741b402b9251727e16.jpg</td>\n",
       "    </tr>\n",
       "    <tr>\n",
       "      <th>4</th>\n",
       "      <td>4</td>\n",
       "      <td>1503851645</td>\n",
       "      <td>catrice the nude blossom collection eyeshadow ...</td>\n",
       "      <td>9</td>\n",
       "      <td>beauty_image/0699de63c71e8cab92b030574d4efd07.jpg</td>\n",
       "    </tr>\n",
       "  </tbody>\n",
       "</table>\n",
       "</div>"
      ],
      "text/plain": [
       "   Unnamed: 0      itemid                                              title  \\\n",
       "0           0   568397291                              the body shop cushion   \n",
       "1           1   692151107                     coty airspun loose face powder   \n",
       "2           2  1494939333  promo little baby collagen powder bedak origin...   \n",
       "3           3  1668851817                      giordani gold cc cream spf 35   \n",
       "4           4  1503851645  catrice the nude blossom collection eyeshadow ...   \n",
       "\n",
       "   Category                                         image_path  \n",
       "0         1  beauty_image/40b183d4becbd3e241f0eec1ee326aeb.jpg  \n",
       "1         3  beauty_image/9e80d455fb90ea92bd093f42ff266010.jpg  \n",
       "2         3  beauty_image/ed83b4310de1087a49e20e3cc9b283f5.jpg  \n",
       "3         5  beauty_image/39762bdfca9908741b402b9251727e16.jpg  \n",
       "4         9  beauty_image/0699de63c71e8cab92b030574d4efd07.jpg  "
      ]
     },
     "execution_count": 3,
     "metadata": {},
     "output_type": "execute_result"
    }
   ],
   "source": [
    "beauty = pd.read_csv(\"./Datasets/Beauty_shuffled.csv\")\n",
    "beauty.head()\n"
   ]
  },
  {
   "cell_type": "code",
   "execution_count": 5,
   "metadata": {},
   "outputs": [
    {
     "name": "stdout",
     "output_type": "stream",
     "text": [
      "WARNING:tensorflow:From /Users/yeeeeehan/anaconda3/lib/python3.7/site-packages/tensorflow/python/framework/op_def_library.py:263: colocate_with (from tensorflow.python.framework.ops) is deprecated and will be removed in a future version.\n",
      "Instructions for updating:\n",
      "Colocations handled automatically by placer.\n",
      "WARNING:tensorflow:From /Users/yeeeeehan/anaconda3/lib/python3.7/site-packages/keras/backend/tensorflow_backend.py:3445: calling dropout (from tensorflow.python.ops.nn_ops) with keep_prob is deprecated and will be removed in a future version.\n",
      "Instructions for updating:\n",
      "Please use `rate` instead of `keep_prob`. Rate should be set to `rate = 1 - keep_prob`.\n",
      "WARNING:tensorflow:From /Users/yeeeeehan/anaconda3/lib/python3.7/site-packages/tensorflow/python/ops/math_ops.py:3066: to_int32 (from tensorflow.python.ops.math_ops) is deprecated and will be removed in a future version.\n",
      "Instructions for updating:\n",
      "Use tf.cast instead.\n",
      "Train on 229266 samples, validate on 57317 samples\n",
      "Epoch 1/1\n",
      "229266/229266 [==============================] - 16s 70us/step - loss: 1.2441 - acc: 0.6329 - val_loss: 0.8625 - val_acc: 0.7408\n"
     ]
    },
    {
     "data": {
      "image/png": "[encoded data removed]",
      "text/plain": [
       "<Figure size 432x288 with 1 Axes>"
      ]
     },
     "metadata": {
      "needs_background": "light"
     },
     "output_type": "display_data"
    }
   ],
   "source": [
    "max_words = 1000\n",
    "batch_size = 3000\n",
    "epochs = 1\n",
    "\n",
    "\n",
    "\n",
    "train_size = int(len(beauty) * 0.8) \n",
    "train_title = beauty['title'][:train_size]                       #Takes 70% of the training data to train\n",
    "train_Category = beauty['Category'][:train_size]                 #Takes 70% of the training data to train\n",
    "\n",
    "eval_title = beauty['title'][train_size:]                        #Takes remaining 30% of the training data to test\n",
    "eval_Category = beauty['Category'][train_size:]                  #Takes remaining 30% of the training data to test\n",
    "\n",
    "tokenize = text.Tokenizer(num_words=max_words, char_level=False) # Constructs Tokenizer object\n",
    "tokenize.fit_on_texts(train_title)                               # Calls the fit_on_texts method on \n",
    "print()\n",
    "\n",
    "x_train = tokenize.texts_to_matrix(train_title)                  # Instantiates \n",
    "x_eval = tokenize.texts_to_matrix(eval_title)\n",
    "\n",
    "encoder = LabelEncoder()                                          # Instantiates \n",
    "encoder.fit(train_Category)\n",
    "y_train = train_Category\n",
    "y_eval = eval_Category\n",
    "y_train = encoder.transform(train_Category)\n",
    "y_eval = encoder.transform(eval_Category)\n",
    "\n",
    "num_classes = np.max(y_train) - np.min(y_train) + 1\n",
    "y_train = utils.to_categorical(y_train, num_classes)   # one hot encode the class values\n",
    "y_eval = utils.to_categorical(y_eval, num_classes)\n",
    "\n",
    "\n",
    "\n",
    "# Build the model\n",
    "model = Sequential()\n",
    "model.add(Dense(512, input_shape=(max_words,)))\n",
    "model.add(Activation('relu'))\n",
    "model.add(Dropout(0.5))\n",
    "model.add(Dense(512))\n",
    "model.add(Activation('relu'))\n",
    "model.add(Dropout(0.3))\n",
    "model.add(Dense(512))\n",
    "model.add(Activation('relu'))\n",
    "model.add(Dropout(0.3))\n",
    "model.add(Dense(num_classes))\n",
    "model.add(Activation('softmax'))\n",
    "\n",
    "model.compile(loss='categorical_crossentropy',\n",
    "              optimizer='adagrad',\n",
    "              metrics=['accuracy'])\n",
    "              \n",
    "history = model.fit(x_train, y_train,\n",
    "                    validation_data=[x_eval, y_eval],\n",
    "                    batch_size=batch_size,\n",
    "                    epochs=epochs,\n",
    "                    verbose=1)\n",
    "\n",
    "def display_training_graph(history):\n",
    "    # summarize history for loss\n",
    "    plt.plot(history.history['val_loss'])\n",
    "    plt.plot(history.history['loss'])\n",
    "    plt.title('model loss')\n",
    "    plt.ylabel('loss')\n",
    "    plt.xlabel('epoch')\n",
    "    plt.legend(['val_loss', 'loss'], loc='upper right')\n",
    "    plt.draw()\n",
    "\n",
    "\n",
    "display_training_graph(history)"
   ]
  },
  {
   "cell_type": "code",
   "execution_count": null,
   "metadata": {},
   "outputs": [],
   "source": [
    "score = model.evaluate(x_eval, y_eval,\n",
    "                       batch_size=batch_size, verbose=1)\n",
    "print('Test accuracy:', score[1])"
   ]
  },
  {
   "cell_type": "code",
   "execution_count": null,
   "metadata": {},
   "outputs": [],
   "source": [
    "filename = './Post_NDSC_beauty_model/' + 'model_' + str(1) + '.h5'\n",
    "model.save(filename)\n",
    "print('>Saved %s' % filename)"
   ]
  },
  {
   "cell_type": "code",
   "execution_count": null,
   "metadata": {},
   "outputs": [],
   "source": []
  },
  {
   "cell_type": "code",
   "execution_count": null,
   "metadata": {},
   "outputs": [],
   "source": []
  },
  {
   "cell_type": "code",
   "execution_count": null,
   "metadata": {},
   "outputs": [],
   "source": []
  },
  {
   "cell_type": "code",
   "execution_count": null,
   "metadata": {},
   "outputs": [],
   "source": []
  },
  {
   "cell_type": "code",
   "execution_count": null,
   "metadata": {},
   "outputs": [],
   "source": []
  },
  {
   "cell_type": "code",
   "execution_count": null,
   "metadata": {},
   "outputs": [],
   "source": []
  },
  {
   "cell_type": "code",
   "execution_count": null,
   "metadata": {},
   "outputs": [],
   "source": []
  }
 ],
 "metadata": {
  "kernelspec": {
   "display_name": "Python (root)",
   "language": "python",
   "name": "root"
  },
  "language_info": {
   "codemirror_mode": {
    "name": "ipython",
    "version": 3
   },
   "file_extension": ".py",
   "mimetype": "text/x-python",
   "name": "python",
   "nbconvert_exporter": "python",
   "pygments_lexer": "ipython3",
   "version": "3.7.1"
  }
 },
 "nbformat": 4,
 "nbformat_minor": 2
}
