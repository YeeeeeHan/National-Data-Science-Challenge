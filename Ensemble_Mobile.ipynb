{
 "cells": [
  {
   "cell_type": "code",
   "execution_count": 1,
   "metadata": {},
   "outputs": [
    {
     "name": "stderr",
     "output_type": "stream",
     "text": [
      "Using TensorFlow backend.\n"
     ]
    },
    {
     "data": {
      "text/plain": [
       "''"
      ]
     },
     "execution_count": 1,
     "metadata": {},
     "output_type": "execute_result"
    }
   ],
   "source": [
    "import pandas as pd\n",
    "import numpy as np\n",
    "from numpy import dstack\n",
    "import logging\n",
    "import itertools\n",
    "import os\n",
    "import gensim\n",
    "import nltk\n",
    "import re\n",
    "\n",
    "%matplotlib inline\n",
    "import matplotlib.pyplot as plt\n",
    "\n",
    "from sklearn.feature_extraction.text import CountVectorizer, TfidfVectorizer\n",
    "from sklearn.linear_model import LogisticRegression\n",
    "from sklearn.metrics import accuracy_score,confusion_matrix\n",
    "from sklearn.model_selection import train_test_split\n",
    "from sklearn.preprocessing import LabelBinarizer, LabelEncoder\n",
    "\n",
    "import tensorflow as tf\n",
    "from tensorflow import keras\n",
    "from keras import utils\n",
    "from keras.utils import to_categorical\n",
    "from keras.models import Sequential, model_from_json, load_model\n",
    "from keras.layers import Dense, Activation, Dropout, Input\n",
    "from keras.layers.normalization import BatchNormalization\n",
    "from keras.preprocessing import text, sequence\n",
    "\n",
    "from nltk.corpus import stopwords\n",
    "\n",
    "\n",
    "\n",
    "tf.test.gpu_device_name()"
   ]
  },
  {
   "cell_type": "code",
   "execution_count": 2,
   "metadata": {},
   "outputs": [],
   "source": [
    "Mobile = pd.read_csv('Mobile_shuffled.csv')"
   ]
  },
  {
   "cell_type": "code",
   "execution_count": 3,
   "metadata": {},
   "outputs": [],
   "source": [
    "train_size = int(len(Mobile) * 0.8) \n",
    "train_title = Mobile['title'][:train_size] #Takes 70% of the training data to train\n",
    "train_Category = Mobile['Category'][:train_size] #Takes 70% of the training data to train\n",
    "\n",
    "eval_title = Mobile['title'][train_size:] #Takes remaining 30% of the training data to test\n",
    "eval_Category = Mobile['Category'][train_size:] #Takes remaining 30% of the training data to test\n",
    "\n",
    "max_words = 1000\n",
    "tokenize = text.Tokenizer(num_words=max_words, char_level=False)\n",
    "tokenize.fit_on_texts(train_title) # only fit on train\n",
    "\n",
    "x_train = tokenize.texts_to_matrix(train_title)\n",
    "x_eval = tokenize.texts_to_matrix(eval_title)\n",
    "\n",
    "encoder = LabelEncoder()\n",
    "encoder.fit(train_Category)\n",
    "y_train = train_Category\n",
    "y_eval = eval_Category\n",
    "y_train = encoder.transform(train_Category)\n",
    "y_eval = encoder.transform(eval_Category)\n",
    "\n",
    "\n",
    "num_classes = np.max(y_train) - np.min(y_train) + 1\n",
    "y_train = utils.to_categorical(y_train, num_classes)\n",
    "y_eval = utils.to_categorical(y_eval, num_classes)\n"
   ]
  },
  {
   "cell_type": "code",
   "execution_count": 4,
   "metadata": {},
   "outputs": [],
   "source": [
    "from keras.models import load_model\n",
    "\n",
    "def load_all_models(n_models):\n",
    "    all_models = list()\n",
    "    for i in range(3):\n",
    "        filename = 'mobile_models/model_' + str(i + 1) + '.h5'\n",
    "        model = load_model(filename)                   \n",
    "        all_models.append(model)                        \n",
    "        print('>loaded %s' % filename)\n",
    "    return all_models\n"
   ]
  },
  {
   "cell_type": "code",
   "execution_count": 5,
   "metadata": {},
   "outputs": [
    {
     "name": "stdout",
     "output_type": "stream",
     "text": [
      "WARNING:tensorflow:From /Users/yeeeeehan/anaconda3/lib/python3.7/site-packages/tensorflow/python/framework/op_def_library.py:263: colocate_with (from tensorflow.python.framework.ops) is deprecated and will be removed in a future version.\n",
      "Instructions for updating:\n",
      "Colocations handled automatically by placer.\n",
      "WARNING:tensorflow:From /Users/yeeeeehan/anaconda3/lib/python3.7/site-packages/keras/backend/tensorflow_backend.py:3445: calling dropout (from tensorflow.python.ops.nn_ops) with keep_prob is deprecated and will be removed in a future version.\n",
      "Instructions for updating:\n",
      "Please use `rate` instead of `keep_prob`. Rate should be set to `rate = 1 - keep_prob`.\n",
      "WARNING:tensorflow:From /Users/yeeeeehan/anaconda3/lib/python3.7/site-packages/tensorflow/python/ops/math_ops.py:3066: to_int32 (from tensorflow.python.ops.math_ops) is deprecated and will be removed in a future version.\n",
      "Instructions for updating:\n",
      "Use tf.cast instead.\n",
      ">loaded mobile_models/model_1.h5\n",
      ">loaded mobile_models/model_2.h5\n",
      ">loaded mobile_models/model_3.h5\n"
     ]
    }
   ],
   "source": [
    "members = load_all_models(3)"
   ]
  },
  {
   "cell_type": "code",
   "execution_count": 6,
   "metadata": {},
   "outputs": [
    {
     "name": "stderr",
     "output_type": "stream",
     "text": [
      "/Users/yeeeeehan/anaconda3/lib/python3.7/site-packages/sklearn/linear_model/logistic.py:433: FutureWarning: Default solver will be changed to 'lbfgs' in 0.22. Specify a solver to silence this warning.\n",
      "  FutureWarning)\n",
      "/Users/yeeeeehan/anaconda3/lib/python3.7/site-packages/sklearn/linear_model/logistic.py:460: FutureWarning: Default multi_class will be changed to 'auto' in 0.22. Specify the multi_class option to silence this warning.\n",
      "  \"this warning.\", FutureWarning)\n"
     ]
    }
   ],
   "source": [
    "def stacked_dataset(members, inputX):\n",
    "    stackX = None\n",
    "    for model in members:                         # make prediction for each sub-model\n",
    "        yhat = model.predict(inputX, verbose=0)   # stack predictions into [rows, members, probabilities]\n",
    "        if stackX is None:\n",
    "            stackX = yhat\n",
    "        else:\n",
    "            stackX = dstack((stackX, yhat))       # flatten predictions to [rows, members x probabilities]\n",
    "    stackX = stackX.reshape((stackX.shape[0], stackX.shape[1]*stackX.shape[2]))\n",
    "    return stackX\n",
    "\n",
    "\n",
    "\n",
    "\n",
    "def fit_stacked_model(members, inputX, inputy):     # fit models based on the outputs from the ensemble members\n",
    "    stackedX = stacked_dataset(members, inputX)     # create dataset using ensemble\n",
    "    model = LogisticRegression()                    # fit standalone model\n",
    "    model.fit(stackedX, np.argmax(inputy, axis=1))\n",
    "    return model\n",
    "\n",
    "\n",
    "model = fit_stacked_model(members, x_eval,y_eval)"
   ]
  },
  {
   "cell_type": "code",
   "execution_count": 7,
   "metadata": {},
   "outputs": [
    {
     "name": "stdout",
     "output_type": "stream",
     "text": [
      "Stacked Test Accuracy: 0.817\n"
     ]
    }
   ],
   "source": [
    "def stacked_prediction(members, model, inputX):\n",
    "    stackedX = stacked_dataset(members, inputX)\n",
    "    yhat = model.predict(stackedX)\n",
    "    return yhat\n",
    "\n",
    "yhat = stacked_prediction(members, model, x_eval)             # evaluate model on test set\n",
    "y_val_values = ([np.argmax(y, axis=None, out=None) for y in y_eval])\n",
    "acc = accuracy_score(y_val_values, yhat)\n",
    "print('Stacked Test Accuracy: %.3f' % acc)\n"
   ]
  },
  {
   "cell_type": "code",
   "execution_count": 9,
   "metadata": {},
   "outputs": [
    {
     "ename": "NameError",
     "evalue": "name 'beauty_predict' is not defined",
     "output_type": "error",
     "traceback": [
      "\u001b[0;31m---------------------------------------------------------------------------\u001b[0m",
      "\u001b[0;31mNameError\u001b[0m                                 Traceback (most recent call last)",
      "\u001b[0;32m<ipython-input-9-14f31995be8f>\u001b[0m in \u001b[0;36m<module>\u001b[0;34m\u001b[0m\n\u001b[1;32m      5\u001b[0m \u001b[0mscore\u001b[0m \u001b[0;34m=\u001b[0m \u001b[0mstacked_prediction\u001b[0m\u001b[0;34m(\u001b[0m\u001b[0mmembers\u001b[0m\u001b[0;34m,\u001b[0m \u001b[0mmodel\u001b[0m\u001b[0;34m,\u001b[0m \u001b[0mx_test\u001b[0m\u001b[0;34m)\u001b[0m\u001b[0;34m\u001b[0m\u001b[0;34m\u001b[0m\u001b[0m\n\u001b[1;32m      6\u001b[0m \u001b[0mmobile_predict\u001b[0m \u001b[0;34m=\u001b[0m \u001b[0mpd\u001b[0m\u001b[0;34m.\u001b[0m\u001b[0mDataFrame\u001b[0m\u001b[0;34m(\u001b[0m\u001b[0mdata\u001b[0m\u001b[0;34m=\u001b[0m\u001b[0mscore\u001b[0m\u001b[0;34m)\u001b[0m\u001b[0;34m\u001b[0m\u001b[0;34m\u001b[0m\u001b[0m\n\u001b[0;32m----> 7\u001b[0;31m \u001b[0mmobile_predict\u001b[0m \u001b[0;34m=\u001b[0m \u001b[0mbeauty_predict\u001b[0m\u001b[0;34m.\u001b[0m\u001b[0midxmax\u001b[0m\u001b[0;34m(\u001b[0m\u001b[0maxis\u001b[0m\u001b[0;34m=\u001b[0m\u001b[0;36m1\u001b[0m\u001b[0;34m)\u001b[0m\u001b[0;34m\u001b[0m\u001b[0;34m\u001b[0m\u001b[0m\n\u001b[0m\u001b[1;32m      8\u001b[0m \u001b[0mmobile_predict\u001b[0m\u001b[0;34m.\u001b[0m\u001b[0mto_csv\u001b[0m\u001b[0;34m(\u001b[0m\u001b[0;34m'mobile_predict.csv'\u001b[0m\u001b[0;34m)\u001b[0m\u001b[0;34m\u001b[0m\u001b[0;34m\u001b[0m\u001b[0m\n",
      "\u001b[0;31mNameError\u001b[0m: name 'beauty_predict' is not defined"
     ]
    }
   ],
   "source": [
    "testset = pd.read_csv('test.csv')\n",
    "mobile_test = testset.iloc[131985:]\n",
    "test_title = mobile_test['title']\n",
    "x_test = tokenize.texts_to_matrix(test_title)\n",
    "score = stacked_prediction(members, model, x_test)\n",
    "mobile_predict = pd.DataFrame(data=score)\n",
    "mobile_predict = beauty_predict.idxmax(axis=1)\n",
    "mobile_predict.to_csv('mobile_predict.csv')"
   ]
  },
  {
   "cell_type": "code",
   "execution_count": null,
   "metadata": {},
   "outputs": [],
   "source": []
  },
  {
   "cell_type": "code",
   "execution_count": null,
   "metadata": {},
   "outputs": [],
   "source": []
  },
  {
   "cell_type": "code",
   "execution_count": null,
   "metadata": {},
   "outputs": [],
   "source": []
  }
 ],
 "metadata": {
  "kernelspec": {
   "display_name": "Python (root)",
   "language": "python",
   "name": "root"
  },
  "language_info": {
   "codemirror_mode": {
    "name": "ipython",
    "version": 3
   },
   "file_extension": ".py",
   "mimetype": "text/x-python",
   "name": "python",
   "nbconvert_exporter": "python",
   "pygments_lexer": "ipython3",
   "version": "3.7.1"
  }
 },
 "nbformat": 4,
 "nbformat_minor": 2
}
